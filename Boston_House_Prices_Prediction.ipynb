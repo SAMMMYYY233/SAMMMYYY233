{
  "nbformat": 4,
  "nbformat_minor": 0,
  "metadata": {
    "colab": {
      "name": "Boston House Prices Prediction.ipynb",
      "provenance": [],
      "collapsed_sections": [],
      "include_colab_link": true
    },
    "kernelspec": {
      "name": "python3",
      "display_name": "Python 3"
    },
    "language_info": {
      "name": "python"
    }
  },
  "cells": [
    {
      "cell_type": "markdown",
      "metadata": {
        "id": "view-in-github",
        "colab_type": "text"
      },
      "source": [
        "<a href=\"https://colab.research.google.com/github/SAMMMYYY233/SAMMMYYY233/blob/main/Boston_House_Prices_Prediction.ipynb\" target=\"_parent\"><img src=\"https://colab.research.google.com/assets/colab-badge.svg\" alt=\"Open In Colab\"/></a>"
      ]
    },
    {
      "cell_type": "markdown",
      "metadata": {
        "id": "5opsh-cGN-0e"
      },
      "source": [
        "##**Boston House Prices Prediction**\n",
        "\n",
        "\n",
        "Given a set of features that describe a house in Boston, our machine learning model must predict the house price. To train our machine learning model with boston housing data, we will be using scikit-learn’s boston dataset."
      ]
    },
    {
      "cell_type": "markdown",
      "metadata": {
        "id": "QNu1CSZ2Oi2f"
      },
      "source": [
        "Let's now import the dataset from sklearn\n",
        "```\n",
        "from sklearn.datasets import load_boston\n",
        "boston = load_boston()\n",
        "```"
      ]
    },
    {
      "cell_type": "code",
      "metadata": {
        "id": "FMhuoAYDO3tJ"
      },
      "source": [
        "# Write code for importing the dataset\n",
        "from sklearn.datasets import load_boston"
      ],
      "execution_count": null,
      "outputs": []
    },
    {
      "cell_type": "code",
      "source": [
        "boston = load_boston()"
      ],
      "metadata": {
        "colab": {
          "base_uri": "https://localhost:8080/"
        },
        "id": "o7I1O-qP8dCU",
        "outputId": "31a23bf7-02e8-4131-c355-fdcbda969bbe"
      },
      "execution_count": null,
      "outputs": [
        {
          "output_type": "stream",
          "name": "stderr",
          "text": [
            "/usr/local/lib/python3.7/dist-packages/sklearn/utils/deprecation.py:87: FutureWarning: Function load_boston is deprecated; `load_boston` is deprecated in 1.0 and will be removed in 1.2.\n",
            "\n",
            "    The Boston housing prices dataset has an ethical problem. You can refer to\n",
            "    the documentation of this function for further details.\n",
            "\n",
            "    The scikit-learn maintainers therefore strongly discourage the use of this\n",
            "    dataset unless the purpose of the code is to study and educate about\n",
            "    ethical issues in data science and machine learning.\n",
            "\n",
            "    In this special case, you can fetch the dataset from the original\n",
            "    source::\n",
            "\n",
            "        import pandas as pd\n",
            "        import numpy as np\n",
            "\n",
            "\n",
            "        data_url = \"http://lib.stat.cmu.edu/datasets/boston\"\n",
            "        raw_df = pd.read_csv(data_url, sep=\"\\s+\", skiprows=22, header=None)\n",
            "        data = np.hstack([raw_df.values[::2, :], raw_df.values[1::2, :2]])\n",
            "        target = raw_df.values[1::2, 2]\n",
            "\n",
            "    Alternative datasets include the California housing dataset (i.e.\n",
            "    :func:`~sklearn.datasets.fetch_california_housing`) and the Ames housing\n",
            "    dataset. You can load the datasets as follows::\n",
            "\n",
            "        from sklearn.datasets import fetch_california_housing\n",
            "        housing = fetch_california_housing()\n",
            "\n",
            "    for the California housing dataset and::\n",
            "\n",
            "        from sklearn.datasets import fetch_openml\n",
            "        housing = fetch_openml(name=\"house_prices\", as_frame=True)\n",
            "\n",
            "    for the Ames housing dataset.\n",
            "    \n",
            "  warnings.warn(msg, category=FutureWarning)\n"
          ]
        }
      ]
    },
    {
      "cell_type": "markdown",
      "metadata": {
        "id": "eEKlGU1GO70j"
      },
      "source": [
        "Let's assign the data and target to separate variables.\n",
        "```\n",
        "x = boston.data\n",
        "y = boston.target\n",
        "```\n",
        "x contains the features and y contains the labels"
      ]
    },
    {
      "cell_type": "code",
      "metadata": {
        "id": "vsKLeTi2Pf1q"
      },
      "source": [
        "# Write code to assign data and target to separate variables\n",
        "x = boston.data\n",
        "y = boston.target"
      ],
      "execution_count": null,
      "outputs": []
    },
    {
      "cell_type": "markdown",
      "metadata": {
        "id": "jkqT8HKiBROS"
      },
      "source": [
        "Since our process involve training and testing, we should split our dataset. It can be executed by the following code\n",
        "\n",
        "```\n",
        "from sklearn.model_selection import train_test_split\n",
        "x_train, x_test, y_train, y_test = train_test_split(x,y,test_size=0.5)\n",
        "```\n",
        "\n",
        "- x_train contains the training features\n",
        "- x_test contains the testing features\n",
        "- y_train contains the training label\n",
        "- y_test contains the testing labels"
      ]
    },
    {
      "cell_type": "code",
      "metadata": {
        "id": "BrVjXKKICQNi"
      },
      "source": [
        "# Write code for splitting testing and training data\n",
        "from sklearn.model_selection import train_test_split\n",
        "x_train, x_test, y_train, y_test = train_test_split(x,y,test_size=0.7)"
      ],
      "execution_count": null,
      "outputs": []
    },
    {
      "cell_type": "markdown",
      "metadata": {
        "id": "SuRhwxG6P5Pl"
      },
      "source": [
        "We can use any regression algorithm to solve the problem. For simplicity, let's try Linear regression\n",
        "```\n",
        "from sklearn.linear_model import LinearRegression\n",
        "regressor = LinearRegression()\n",
        "```"
      ]
    },
    {
      "cell_type": "code",
      "metadata": {
        "id": "PlFiJFCIDPtc"
      },
      "source": [
        "# Write code for Linear Regression algorithm\n",
        "from sklearn.linear_model import LinearRegression\n",
        "regressor = LinearRegression()"
      ],
      "execution_count": null,
      "outputs": []
    },
    {
      "cell_type": "markdown",
      "metadata": {
        "id": "knJf7NGqDZmz"
      },
      "source": [
        "We can train the model with *fit* function.\n",
        "\n",
        "```\n",
        "regressor.fit(x_train,y_train)\n",
        "```"
      ]
    },
    {
      "cell_type": "code",
      "metadata": {
        "id": "Fl3Qv_BCDlmI",
        "colab": {
          "base_uri": "https://localhost:8080/"
        },
        "outputId": "1a24efbe-29e2-4a35-d0a1-fd31332ae2d8"
      },
      "source": [
        "# Write code to train the model\n",
        "regressor.fit(x_train,y_train)"
      ],
      "execution_count": null,
      "outputs": [
        {
          "output_type": "execute_result",
          "data": {
            "text/plain": [
              "LinearRegression()"
            ]
          },
          "metadata": {},
          "execution_count": 14
        }
      ]
    },
    {
      "cell_type": "markdown",
      "metadata": {
        "id": "WXp7VF3WDqdi"
      },
      "source": [
        "Predictions can be done with *predict* function\n",
        "\n",
        "```\n",
        "predictions = regressor.predict(x_test)\n",
        "```"
      ]
    },
    {
      "cell_type": "code",
      "metadata": {
        "id": "rYO4Cp7bD4GH"
      },
      "source": [
        "# Write code to predict classification\n",
        "predictions = regressor.predict(x_test)"
      ],
      "execution_count": null,
      "outputs": []
    },
    {
      "cell_type": "markdown",
      "metadata": {
        "id": "idPCDEZAECp8"
      },
      "source": [
        "These predictions can be matched with the expected output to measure the accuracy value.\n",
        "\n",
        "```\n",
        "print(regressor.score(x_test,y_test))\n",
        "```"
      ]
    },
    {
      "cell_type": "code",
      "metadata": {
        "id": "4jQdUU_9D_sG",
        "colab": {
          "base_uri": "https://localhost:8080/"
        },
        "outputId": "337a3f6f-38c4-47f2-cf8c-ae0be883e961"
      },
      "source": [
        "# Write code for prinitng the accuracy\n",
        "print(regressor.score(x_test,y_test))"
      ],
      "execution_count": null,
      "outputs": [
        {
          "output_type": "stream",
          "name": "stdout",
          "text": [
            "0.6769400917947482\n"
          ]
        }
      ]
    },
    {
      "cell_type": "code",
      "source": [
        ""
      ],
      "metadata": {
        "id": "T8-qHId683XQ"
      },
      "execution_count": null,
      "outputs": []
    }
  ]
}